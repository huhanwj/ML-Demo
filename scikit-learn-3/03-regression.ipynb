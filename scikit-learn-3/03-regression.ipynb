{
 "cells": [
  {
   "cell_type": "markdown",
   "metadata": {},
   "source": [
    "## Lession 3: Regression\n",
    "\n",
    "**Prepared by John C.S. Lui** \n",
    "\n",
    "Date: Feb 17, 2021."
   ]
  },
  {
   "cell_type": "markdown",
   "metadata": {},
   "source": [
    "## Introduction\n",
    "\n",
    "In statistics, Lesson 1,  and in CSCI3320 lectures, we talked about using **best-fit** method, which is esssentially **ordinary least squares (OLS)** regression method.\n",
    "\n",
    "The questions are, when we have **many** features, and when the number of features is more\n",
    "than the data points, what can we do?  It turns out that scikit-learn can come to the \n",
    "rescue.  Let's explore this interesting and important topic."
   ]
  },
  {
   "cell_type": "markdown",
   "metadata": {},
   "source": [
    "## Predict house price\n",
    "\n",
    "We want to predict house price in Boston, USA.  The data set has various\n",
    "features such as demographic and geographical attributes, such as the crime rate or the pupil-teacher ratio in the neighborhood, ...etc.  The data set is a built-in data set in scikit-learn.\n"
   ]
  },
  {
   "cell_type": "code",
   "execution_count": 7,
   "metadata": {},
   "outputs": [
    {
     "name": "stdout",
     "output_type": "stream",
     "text": [
      ".. _boston_dataset:\n",
      "\n",
      "Boston house prices dataset\n",
      "---------------------------\n",
      "\n",
      "**Data Set Characteristics:**  \n",
      "\n",
      "    :Number of Instances: 506 \n",
      "\n",
      "    :Number of Attributes: 13 numeric/categorical predictive. Median Value (attribute 14) is usually the target.\n",
      "\n",
      "    :Attribute Information (in order):\n",
      "        - CRIM     per capita crime rate by town\n",
      "        - ZN       proportion of residential land zoned for lots over 25,000 sq.ft.\n",
      "        - INDUS    proportion of non-retail business acres per town\n",
      "        - CHAS     Charles River dummy variable (= 1 if tract bounds river; 0 otherwise)\n",
      "        - NOX      nitric oxides concentration (parts per 10 million)\n",
      "        - RM       average number of rooms per dwelling\n",
      "        - AGE      proportion of owner-occupied units built prior to 1940\n",
      "        - DIS      weighted distances to five Boston employment centres\n",
      "        - RAD      index of accessibility to radial highways\n",
      "        - TAX      full-value property-tax rate per $10,000\n",
      "        - PTRATIO  pupil-teacher ratio by town\n",
      "        - B        1000(Bk - 0.63)^2 where Bk is the proportion of blacks by town\n",
      "        - LSTAT    % lower status of the population\n",
      "        - MEDV     Median value of owner-occupied homes in $1000's\n",
      "\n",
      "    :Missing Attribute Values: None\n",
      "\n",
      "    :Creator: Harrison, D. and Rubinfeld, D.L.\n",
      "\n",
      "This is a copy of UCI ML housing dataset.\n",
      "https://archive.ics.uci.edu/ml/machine-learning-databases/housing/\n",
      "\n",
      "\n",
      "This dataset was taken from the StatLib library which is maintained at Carnegie Mellon University.\n",
      "\n",
      "The Boston house-price data of Harrison, D. and Rubinfeld, D.L. 'Hedonic\n",
      "prices and the demand for clean air', J. Environ. Economics & Management,\n",
      "vol.5, 81-102, 1978.   Used in Belsley, Kuh & Welsch, 'Regression diagnostics\n",
      "...', Wiley, 1980.   N.B. Various transformations are used in the table on\n",
      "pages 244-261 of the latter.\n",
      "\n",
      "The Boston house-price data has been used in many machine learning papers that address regression\n",
      "problems.   \n",
      "     \n",
      ".. topic:: References\n",
      "\n",
      "   - Belsley, Kuh & Welsch, 'Regression diagnostics: Identifying Influential Data and Sources of Collinearity', Wiley, 1980. 244-261.\n",
      "   - Quinlan,R. (1993). Combining Instance-Based and Model-Based Learning. In Proceedings on the Tenth International Conference of Machine Learning, 236-243, University of Massachusetts, Amherst. Morgan Kaufmann.\n",
      "\n",
      "\n",
      "*** Feature names are:  ['CRIM' 'ZN' 'INDUS' 'CHAS' 'NOX' 'RM' 'AGE' 'DIS' 'RAD' 'TAX' 'PTRATIO'\n",
      " 'B' 'LSTAT']\n",
      "\n",
      "*** shape of data: (506, 13)\n"
     ]
    }
   ],
   "source": [
    "import numpy as np\n",
    "from matplotlib import pyplot as plt\n",
    "\n",
    "# So we can do plots inline:\n",
    "%matplotlib inline   \n",
    "\n",
    "# Load the dataset\n",
    "from sklearn.datasets import load_boston\n",
    "boston = load_boston() \n",
    "\n",
    "# boston.data contains the input data \n",
    "# boston.target contains the price of houses in thousands of dollars.\n",
    "\n",
    "print(boston.DESCR)  # description of the data\n",
    "print('\\n*** Feature names are: ', boston.feature_names)\n",
    "print('\\n*** shape of data:', boston.data.shape)  # so we know how many input points"
   ]
  },
  {
   "cell_type": "code",
   "execution_count": 8,
   "metadata": {},
   "outputs": [
    {
     "name": "stdout",
     "output_type": "stream",
     "text": [
      "shape of x: (506,)\n",
      "shape of y: (506,)\n",
      "average housing price = $ 22532.806324110676\n",
      "*** shape of x: (506, 1)\n",
      "*** shape of y: (506, 1)\n",
      "*** average housing price = $ 22532.806324110676\n"
     ]
    },
    {
     "data": {
      "image/png": "[encoded data removed]",
      "text/plain": [
       "<Figure size 432x288 with 1 Axes>"
      ]
     },
     "metadata": {
      "needs_background": "light"
     },
     "output_type": "display_data"
    }
   ],
   "source": [
    "# Our first regression attempt\n",
    "\n",
    "from sklearn.linear_model import LinearRegression\n",
    "#lr = LinearRegression(fit_intercept=True)\n",
    "lr = LinearRegression()\n",
    "\n",
    "# Index number 5 in the number of rooms\n",
    "x = boston.data[:, 5]  # array with average # of rooms in 506 sample points\n",
    "y = boston.target      # array of target prices in 506 sample points\n",
    "\n",
    "# illustrate the dimension of x and y\n",
    "print('shape of x:', x.shape)  \n",
    "print('shape of y:', y.shape)\n",
    "print('average housing price = $', np.average(y)*1000)\n",
    "\n",
    "# lr.fit takes a two-dimensional array as input. We use np.atleast_2d\n",
    "# to convert from one to two dimensional, then transpose to make sure that the\n",
    "# format matches:\n",
    "x = np.transpose(np.atleast_2d(x))\n",
    "y = np.transpose(np.atleast_2d(y))\n",
    "\n",
    "print('*** shape of x:', x.shape)  \n",
    "print('*** shape of y:', y.shape)\n",
    "print('*** average housing price = $', np.average(y)*1000)\n",
    "\n",
    "# perform linear regression fit\n",
    "lr.fit(x, y)\n",
    "\n",
    "\n",
    "#lr.predict(np.atleast_2d(xmin))\n",
    "\n",
    "fig,ax = plt.subplots()  # enable plot\n",
    "ax.set_xlabel(\"Average number of rooms (RM)\")\n",
    "ax.set_ylabel(\"House Price\")\n",
    "xmin = x.min()   # find out the minimum values of x\n",
    "xmax = x.max()   # find out the maximum value of x\n",
    "\n",
    "# find out the predicted  price at x_min and x_max\n",
    "# Note that we have to convert it to 2d array, then get the integer value\n",
    "# so to pass to the plotting routing\n",
    "predict_at_xmin = int(lr.predict(np.atleast_2d(xmin)))  \n",
    "predict_at_xmax = int(lr.predict(np.atleast_2d(xmax)))\n",
    "\n",
    "# Do the plottting, with x values from [xmin, xmax]\n",
    "# y values from [predict_at_xmin, predict_at_xmax]\n",
    "# use line for the curve (or '-')\n",
    "# line weight is 2, set the color of the line to red\n",
    "ax.plot([xmin, xmax],\n",
    "        [predict_at_xmin, predict_at_xmax], '-', lw=2, color=\"red\", label='price vs. room')\n",
    "ax.legend(loc='upper left', shadow=True, fontsize='x-large')\n",
    "ax.scatter(x, y, s=2)  # s is a parameter to show intensity of dots\n",
    "fig.savefig('Lesson03_Regression_Fig_01.png')"
   ]
  },
  {
   "cell_type": "code",
   "execution_count": 9,
   "metadata": {},
   "outputs": [
    {
     "name": "stdout",
     "output_type": "stream",
     "text": [
      "Mean squared error (on training data): 43.6\n"
     ]
    }
   ],
   "source": [
    "# If we just use room (RM) as a single feature to do regression,\n",
    "# we want to quantify its error with the target value, let say, in mean sqaured error (MSE)\n",
    "from sklearn.metrics import mean_squared_error\n",
    "mse = mean_squared_error(y, lr.predict(x))\n",
    "print(\"Mean squared error (on training data): {:.3}\".format(mse))"
   ]
  },
  {
   "cell_type": "code",
   "execution_count": 11,
   "metadata": {},
   "outputs": [
    {
     "name": "stdout",
     "output_type": "stream",
     "text": [
      "RMSE (on training data): 6.603071389222561\n"
     ]
    }
   ],
   "source": [
    "# Let's do Root Mean-squared Error\n",
    "rmse = np.sqrt(mse)\n",
    "print('RMSE (on training data): {}'.format(rmse))"
   ]
  },
  {
   "cell_type": "markdown",
   "metadata": {},
   "source": [
    "### Usefulness of RMSE\n",
    "\n",
    "RMSE is almost like the standard deviation. If the house prices are normally distributed,\n",
    "then 95% of all data points are within +/- 2 standard deviation from the mean.\n",
    "Since RMSE = 6.6, and the housing price is in unit of \\$1,000.\n",
    "That means the estimated price is different from the real price by, **at most**, by ~\\$13,000."
   ]
  },
  {
   "cell_type": "markdown",
   "metadata": {},
   "source": [
    "## Coeficient of determination\n",
    "\n",
    "One way to get a feel about our accuracy is to use **coefficient of determination** \n",
    "(or R2 score when we are using linear regression).  Which is defined as:\n",
    "$$\n",
    "1 - \\frac{\\sum_i \\left( y_i - \\hat{y}_i\\right)^2}{\\sum_i \\left(y_i - \\bar{y}\\right)}\n",
    "$$\n",
    "where $y_i$ is the housing price of the $i^{th}$ sample point,\n",
    "$\\hat{y}_i$ is the estimated housing price of the $i^{th}$ sample point,\n",
    "and $\\bar{y}$ is the average housing price of all sample points.\n",
    "If it is equal to 1, it means perfect prediction. The lower the value, the worse is the prediction."
   ]
  },
  {
   "cell_type": "code",
   "execution_count": 12,
   "metadata": {},
   "outputs": [
    {
     "name": "stdout",
     "output_type": "stream",
     "text": [
      "R2 (on training data): 0.4835\n",
      "*** r2 score: 0.4835\n"
     ]
    }
   ],
   "source": [
    "from sklearn.metrics import r2_score\n",
    "r2 = r2_score(y, lr.predict(x))\n",
    "print(\"R2 (on training data): {:.4}\".format(r2))\n",
    "\n",
    "# Another way to get the coefficeint of determination\n",
    "print('*** r2 score: {:.4}'.format(lr.score(x,y)))"
   ]
  },
  {
   "cell_type": "markdown",
   "metadata": {},
   "source": [
    "## Multi-dimensional regression\n",
    "\n",
    "Let's consider how to use **ALL** the input variables to do regression."
   ]
  },
  {
   "cell_type": "code",
   "execution_count": 13,
   "metadata": {},
   "outputs": [
    {
     "name": "stdout",
     "output_type": "stream",
     "text": [
      "*** shape of x: (506, 13)\n",
      "*** shape of y: (506,)\n",
      "Mean squared error (on training data): 21.9\n",
      "RMSE (on training data): 4.679191295697281\n",
      "R2 (on training data): 0.74\n"
     ]
    }
   ],
   "source": [
    "x = boston.data   # now x contains all features\n",
    "y = boston.target\n",
    "\n",
    "print('*** shape of x:', x.shape)  \n",
    "print('*** shape of y:', y.shape)\n",
    "\n",
    "lr.fit(x,y)\n",
    "\n",
    "mse = mean_squared_error(y, lr.predict(x))\n",
    "print(\"Mean squared error (on training data): {:.3}\".format(mse))\n",
    "rmse = np.sqrt(mse)\n",
    "print('RMSE (on training data): {}'.format(rmse))\n",
    "r2 = r2_score(y, lr.predict(x))\n",
    "print(\"R2 (on training data): {:.2}\".format(r2))"
   ]
  },
  {
   "cell_type": "markdown",
   "metadata": {},
   "source": [
    "To see how well we do, we plot prediction vs. actual price."
   ]
  },
  {
   "cell_type": "code",
   "execution_count": 14,
   "metadata": {},
   "outputs": [
    {
     "data": {
      "image/png": "[encoded data removed]",
      "text/plain": [
       "<Figure size 432x288 with 1 Axes>"
      ]
     },
     "metadata": {
      "needs_background": "light"
     },
     "output_type": "display_data"
    }
   ],
   "source": [
    "fig,ax = plt.subplots()\n",
    "ax.set_xlabel('Predicted price')\n",
    "ax.set_ylabel('Actual price')\n",
    "\n",
    "# plot 45 degree line, which corresponds to *PERFECT* prediction\n",
    "ax.plot([y.min(), y.max()], [y.min(), y.max()], ':', lw=3, color=\"red\", label='Actual price vs. estimate')\n",
    "ax.legend(loc='upper left', shadow=True, fontsize='x-large')\n",
    "ax.scatter(lr.predict(x), y, s=2)\n",
    "fig.savefig(\"Lesson03_Regression_Fig_02.png\")"
   ]
  },
  {
   "cell_type": "markdown",
   "metadata": {},
   "source": [
    "## Observations\n",
    "1. We are quite accurate for *low* and *medium* range of house prices\n",
    "2. Our model tends to **underestimate** for high-end houses"
   ]
  },
  {
   "cell_type": "markdown",
   "metadata": {},
   "source": [
    "## Cross-validation\n",
    "\n",
    "Now, we will use **cross-validation** for evaluating the regression quality:"
   ]
  },
  {
   "cell_type": "code",
   "execution_count": 15,
   "metadata": {
    "scrolled": true
   },
   "outputs": [
    {
     "name": "stdout",
     "output_type": "stream",
     "text": [
      "RMSE on 5-fold Cross-validation: 6.08959\n"
     ]
    }
   ],
   "source": [
    "# Use K-fold as cross validation\n",
    "from sklearn.model_selection import KFold, cross_val_predict\n",
    "\n",
    "num_fold = 5   # set K=5\n",
    "kf = KFold(n_splits= num_fold) \n",
    "p = cross_val_predict(lr, x, y, cv=kf)  \n",
    "rmse_cv = np.sqrt(mean_squared_error(p, y))\n",
    "print('RMSE on 5-fold Cross-validation: {:.6}'.format(rmse_cv))"
   ]
  },
  {
   "cell_type": "markdown",
   "metadata": {},
   "source": [
    "## Results on cross-validation + KFold\n",
    "\n",
    "We see that with cross-validation, we obtain a more _conservative_ estimate,\n",
    "the RMSE is now ~6.1.\n",
    "\n",
    "Note that the cross-validation estimate is a better estimate of how well we could **generalize** to predict on unseen data."
   ]
  },
  {
   "cell_type": "markdown",
   "metadata": {},
   "source": [
    "## Other regression models\n",
    "\n",
    "Beside the linear regression model, there are other *minor derivatives*. In general,\n",
    "they all **penalty** on the derived parameters to avoid overfitting. In other words,\n",
    "we are willing to take worse prediction for the training data (but adding bias), but\n",
    "we reduce on the variance and avoid overfitting.   So they can do a better job in generalization.\n",
    "There are several simple penalty models, they are **Ridge**, **Lasso** and **ElasticNet**.\n",
    "\n",
    "Let's step back and look at linear regression. In a nutshell, we do the following optimization:\n",
    "$$\n",
    "\\mathbf{w}^* =  arg\\, min_{\\mathbf{w}} || \\mathbf{y} - \\mathbf{Xw}||^2\n",
    "$$\n",
    "In other words, find a vector $\\mathbf{w}$ which can minimize the sum sqaured error.\n",
    "So one can use the best find linear regression method we discussed in class to find \n",
    "$\\mathbf{w}^*$.\n",
    "\n",
    "**Ridge Regression model**: For Ridge, it adds a $L_2$ penalty to avoid overfitting.\n",
    "$$\n",
    "\\mathbf{w}^* =  arg\\, min_{\\mathbf{w}} || \\mathbf{y} - \\mathbf{Xw}||^2 + \\alpha \\sum_i w_{i}^{2}\n",
    "$$\n",
    "In other words, we don't want each feature $i$ to have a very large weight $w_i$.  This can avoid a single\n",
    "feature being a **dominating** feature and so it helps us in generalization (or avoid overfitting).\n",
    "\n",
    "**Lasso Regression model**: For Lasso, it adds a $L_1$ penalty instead.  Its form is:\n",
    "$$\n",
    "\\mathbf{w}^* =  arg\\, min_{\\mathbf{w}} || \\mathbf{y} - \\mathbf{Xw}||^2 + \\alpha \\sum_i |w_{i}|\n",
    "$$\n",
    "Note that Lasso has an **interesting property**, it will result with many feature weightings $w_i$ being zero.\n",
    "This means that the final model does not even use some of its input features; the model is sparse. \n",
    "This is often a very desirable property as the model performs both feature selection and \n",
    "regression at the same time.\n",
    "\n",
    "**ElasticNet**:  For the ElasticNet regression model, it adds **both** $L_1$ and $L_2$ norms as penalty.\n",
    "$$\n",
    "\\mathbf{w}^* =  arg\\, min_{\\mathbf{w}} || \\mathbf{y} - \\mathbf{Xw}||^2 + \\alpha_1 \\sum_i |w_{i}| +\n",
    "    \\alpha_2 \\sum_i w_{i}^{2}\n",
    "$$\n",
    "\n",
    "Obviously, $\\alpha$, $\\alpha_1$ and $\\alpha_2$ are parameters to these models.  The higher the value\n",
    "implies we care more about reducing the penalties.  When they are zero, all these models degenerate to the \n",
    "linear regression model."
   ]
  },
  {
   "cell_type": "markdown",
   "metadata": {},
   "source": [
    "## Using Linear, Ridgee, Lasso and ElasticNet regression models\n",
    "\n",
    "Let's compare few different regression models on *both* training data and cross-validation*:"
   ]
  },
  {
   "cell_type": "code",
   "execution_count": 17,
   "metadata": {},
   "outputs": [
    {
     "name": "stdout",
     "output_type": "stream",
     "text": [
      "Method: linear regression\n",
      "R2 on training: 0.74\n",
      "R2 on 5-fold CV: 0.56\n",
      "\n",
      "\n",
      "Method: ridge(.5)\n",
      "R2 on training: 0.74\n",
      "R2 on 5-fold CV: 0.58\n",
      "\n",
      "\n",
      "Method: lasso(.5)\n",
      "R2 on training: 0.71\n",
      "R2 on 5-fold CV: 0.59\n",
      "\n",
      "\n",
      "Method: elastic-net(.5)\n",
      "R2 on training: 0.71\n",
      "R2 on 5-fold CV: 0.64\n",
      "\n",
      "\n",
      "See how the Elastic-net has the best R2 score !!!!!!\n",
      "\n"
     ]
    }
   ],
   "source": [
    "from sklearn.linear_model import LinearRegression, ElasticNet, Lasso, Ridge                              \n",
    "\n",
    "# define the four regression models: LinearRegression, ElasticNet, Lasso, Ridge \n",
    "for name, met in [\n",
    "        ('linear regression', LinearRegression()),\n",
    "        ('ridge(.5)', Ridge(alpha=0.5)),\n",
    "        ('lasso(.5)', Lasso(alpha=0.5)),\n",
    "        ('elastic-net(.5)', ElasticNet(alpha=0.5))  ]:\n",
    "    # Fit on the whole data:\n",
    "    met.fit(x, y)\n",
    "\n",
    "    # Predict on the whole data without cross-validation\n",
    "    p = met.predict(x)\n",
    "    r2_train = r2_score(y, p)   # r2 score when using all sample points for training\n",
    "\n",
    "    kf = KFold(n_splits=5)  # use 5-fold\n",
    "    p = np.zeros_like(y)    # define an array p w/c has same dimension as y, initialize it to zero\n",
    "    for train, test in kf.split(x):    # loop through KFold\n",
    "        met.fit(x[train], y[train])\n",
    "        p[test] = met.predict(x[test])\n",
    "\n",
    "    r2_cv = r2_score(y, p)   # get r2 score under cross-validation methods\n",
    "    print('Method: {}'.format(name))\n",
    "    print('R2 on training: {:.2}'.format(r2_train))\n",
    "    print('R2 on 5-fold CV: {:.2}'.format(r2_cv))\n",
    "    print('\\n')\n",
    "    \n",
    "print('See how the Elastic-net has the best R2 score !!!!!!\\n')"
   ]
  },
  {
   "cell_type": "markdown",
   "metadata": {},
   "source": [
    "## Variation of weights for different features as we vary $\\alpha$ in Lasso\n",
    "\n",
    "\n",
    "Let's illustrate when we  varry $\\alpha$ in Lasso, how will different weights of different features change"
   ]
  },
  {
   "cell_type": "code",
   "execution_count": 19,
   "metadata": {},
   "outputs": [
    {
     "name": "stdout",
     "output_type": "stream",
     "text": [
      "len(alphas):  1000 alphas[0 to 9]: [1.00000000e-05 1.01626509e-05 1.03279473e-05 1.04959323e-05\n",
      " 1.06666496e-05 1.08401436e-05 1.10164595e-05 1.11956432e-05\n",
      " 1.13777413e-05 1.15628013e-05]\n",
      "---------------------------------------\n",
      "len(alphas):  1000 alphas[0 to 9]: [100.          98.39952296  96.82466119  95.27500472  93.75015015\n",
      "  92.24970053  90.77326525  89.32045999  87.89090653  86.48423276]\n",
      "len(coefs):  13 coefs[0 to 13]: [[-0.         -0.         -0.         ... -0.09289523 -0.09289525\n",
      "  -0.09289527]\n",
      " [ 0.02314768  0.02451811  0.02587159 ...  0.04871617  0.04871615\n",
      "   0.04871613]\n",
      " [-0.         -0.         -0.         ... -0.0040841  -0.00408372\n",
      "  -0.00408334]\n",
      " ...\n",
      " [ 0.          0.          0.         ... -0.39218309 -0.39218322\n",
      "  -0.39218334]\n",
      " [ 0.0602122   0.06017372  0.06013569 ...  0.01490535  0.01490536\n",
      "   0.01490536]\n",
      " [-0.         -0.         -0.         ... -0.41633143 -0.416331\n",
      "  -0.41633057]]\n"
     ]
    },
    {
     "data": {
      "image/png": "[encoded data removed]",
      "text/plain": [
       "<Figure size 432x288 with 1 Axes>"
      ]
     },
     "metadata": {
      "needs_background": "light"
     },
     "output_type": "display_data"
    }
   ],
   "source": [
    "\n",
    "las = Lasso()\n",
    "alphas = np.logspace(-5, 2, 1000)  \n",
    "print('len(alphas): ', len(alphas), 'alphas[0 to 9]:', alphas[0:10])\n",
    "\n",
    "# alphas contains all possible values of alphas, coefs contains the weighting\n",
    "# for different feature for each alphas value\n",
    "alphas, coefs, _= las.path(x, y, alphas=alphas)     \n",
    "\n",
    "print('---------------------------------------')\n",
    "print('len(alphas): ', len(alphas), 'alphas[0 to 9]:', alphas[0:10])\n",
    "print('len(coefs): ', len(coefs), 'coefs[0 to 13]:', coefs[0:13])\n",
    "\n",
    "\n",
    "fig,ax = plt.subplots()                             \n",
    "ax.plot(alphas, coefs.T)                            \n",
    "ax.set_xscale('log')      # remeber to set the x-axis as log scale                           \n",
    "ax.set_xlim(alphas.max(), alphas.min())             \n",
    "\n",
    "\n",
    "ax.set_xlabel('Lasso coefficient path as a function of alpha')                                           \n",
    "ax.set_xlabel('Alpha')                              \n",
    "ax.set_ylabel('Coefficient weight of features')                 \n",
    "fig.savefig('Lesson03_Regression_Fig_03.png')"
   ]
  },
  {
   "cell_type": "markdown",
   "metadata": {},
   "source": [
    "##  Hyperparameter\n",
    "\n",
    "Now you may wonder, we have a tuning parameter $\\alpha$ for Ridge and Lasso regression models, and $\\alpha_1$\n",
    "and $\\alpha_2$ for ElasticNet.  So how should we set them correctly?  The dilemma is this:\n",
    "* If these parameters are set too low, say close to zero, then these models becomes the linear regression\n",
    "  model (which is like the ordinary least square fitting) and we have poor generation error (or we *overfit* \n",
    "  our model). \n",
    "* If these parameters are set too high, then all weights will return zero, then we *underfit* our model\n"
   ]
  },
  {
   "cell_type": "markdown",
   "metadata": {},
   "source": [
    "## Setting hyperparameter the right way\n",
    "\n",
    "It turns out that we can find the right parameteric values by using **two levels of cross-validation**.\n",
    "The *top level* is to estimate the generalization power of the system, while the *second level* is to get good parameters.  For example, we have use the 2-level 5-fold split cross validation as follows:\n",
    "![Drag Racing](Lesson03_Figure01.png)\n",
    "\n",
    "When we are done with fold 1, we have to repeast the above procedure for fold 2 to fold 5. \n",
    "\n",
    "**Important point**: if you use any datapoint to make any decisions about your model (including which parameters to set), you can no longer use that same datapoint to test the generalization ability of your model. \n"
   ]
  },
  {
   "cell_type": "code",
   "execution_count": 20,
   "metadata": {},
   "outputs": [
    {
     "name": "stdout",
     "output_type": "stream",
     "text": [
      "R2 Score for ElasticNetCV: 0.61\n"
     ]
    }
   ],
   "source": [
    "# Using ElasticNet with cross-validation to set the hyperparameter\n",
    "\n",
    "from sklearn.linear_model import ElasticNetCV\n",
    "\n",
    "met = ElasticNetCV()  # no need to specify the alpha value\n",
    "kf = KFold(n_splits=5)\n",
    "p = cross_val_predict(met, x, y, cv=kf) \n",
    "r2_cv = r2_score(y, p)\n",
    "print(\"R2 Score for ElasticNetCV: {:.2}\".format(r2_cv))\n"
   ]
  },
  {
   "cell_type": "markdown",
   "metadata": {},
   "source": [
    "# L1 ratio in ElasticNet\n",
    "\n",
    "You may wonder, in the ElasticNet, we have two parameters $\\alpha_1$ and $\\alpha_2$.  But for the \n",
    "ElasticNet example that we **first** used, we only specify the value of $\\alpha$, so\n",
    "how are $\\alpha_1$ and $\\alpha_2$ being set?\n",
    "\n",
    "Internally, scikit-learn use the **L1 ratio** ($\\rho$) to set both $\\alpha_1$ and $\\alpha_2$ as\n",
    "$$\n",
    "    \\alpha_1 = \\rho \\alpha, \\hspace{0.2in} \\alpha_2 = (1-\\rho)\\alpha\n",
    "$$\n",
    "So $\\rho$ can be viewed as a tradeoff knob between the $L_1$ and $L_2$ penalty terms.\n"
   ]
  },
  {
   "cell_type": "code",
   "execution_count": 21,
   "metadata": {},
   "outputs": [
    {
     "data": {
      "text/plain": [
       "<matplotlib.legend.Legend at 0x7fc2b1773a90>"
      ]
     },
     "execution_count": 21,
     "metadata": {},
     "output_type": "execute_result"
    },
    {
     "data": {
      "image/png": "[encoded data removed]",
      "text/plain": [
       "<Figure size 432x288 with 1 Axes>"
      ]
     },
     "metadata": {
      "needs_background": "light"
     },
     "output_type": "display_data"
    }
   ],
   "source": [
    "# Trying different L1 ratio ($\\rho$) in ElasticNet\n",
    "\n",
    "# Set different l1_ratio\n",
    "l1_ratio = [.01, .05, .25, .5, .75, .95, .99]\n",
    "\n",
    "met = ElasticNetCV(l1_ratio=l1_ratio, n_jobs=-1)  #n_jobs=-1 means use all CPU\n",
    "pred = cross_val_predict(met, x, y, cv=kf) \n",
    "fig, ax = plt.subplots()\n",
    "ax.scatter(pred, y, s=2)\n",
    "# plot 45 degree line\n",
    "ax.plot([pred.min(), pred.max()], [pred.min(), pred.max()], \n",
    "        '-', lw=2, color=\"red\", label='Actual price vs. predicted price')\n",
    "ax.set_xlabel('Predicted price')\n",
    "ax.set_ylabel('Actual price')\n",
    "ax.legend(loc='upper left', shadow=True, fontsize='x-large')\n",
    "\n"
   ]
  },
  {
   "cell_type": "markdown",
   "metadata": {
    "collapsed": true
   },
   "source": [
    "## E2006 Dataset  (THE FOLLOWING PROGRAMS WILL RUN A LONG LONG TIME  !!!!!!!)"
   ]
  },
  {
   "cell_type": "markdown",
   "metadata": {},
   "source": [
    "**Load data**:\n",
    "Since the data is large, **please to go to the data sub-directory and execute the script to download the data first**.\n",
    "\n",
    "One **unique** thing about this data is that the **number of features** is **A LOT MORE THAN** the\n",
    "**number of data points**.  This can cause a problem if we use all data for training. Let's illustrate."
   ]
  },
  {
   "cell_type": "code",
   "execution_count": 25,
   "metadata": {},
   "outputs": [
    {
     "name": "stdout",
     "output_type": "stream",
     "text": [
      "\n",
      "*** shape of data: (16087, 150360)\n",
      "*** shape of target: (16087,)\n"
     ]
    }
   ],
   "source": [
    "from sklearn.datasets import load_svmlight_file\n",
    "data, target = load_svmlight_file('data/E2006.train')  # load the E2006 training data\n",
    "\n",
    "print('\\n*** shape of data:', data.shape)\n",
    "print('*** shape of target:', target.shape)"
   ]
  },
  {
   "cell_type": "markdown",
   "metadata": {},
   "source": [
    "Compute error on training data to demonstrate that we can obtain near perfect scores:"
   ]
  },
  {
   "cell_type": "code",
   "execution_count": 26,
   "metadata": {},
   "outputs": [
    {
     "name": "stdout",
     "output_type": "stream",
     "text": [
      "RMSE on training, 0.00053\n",
      "R2 on training, 1.0\n"
     ]
    }
   ],
   "source": [
    "#  THIS WILL TAKE A LONG TIME, around one to two minutes on my laptop !!!!!\n",
    "lr = LinearRegression()\n",
    "lr.fit(data, target)\n",
    "pred = lr.predict(data) \n",
    "\n",
    "\n",
    "print('RMSE on training, {:.2}'.format(np.sqrt(mean_squared_error(target, pred))))\n",
    "print('R2 on training, {:.2}'.format(r2_score(target, pred)))"
   ]
  },
  {
   "cell_type": "markdown",
   "metadata": {},
   "source": [
    "**Amazing result**. RMSE is almost zero and our R2 is perfect !!!!\n",
    "\n",
    "However, when we do it with cross-validation, we will see that do not do so well on cross-validation:"
   ]
  },
  {
   "cell_type": "code",
   "execution_count": 27,
   "metadata": {},
   "outputs": [
    {
     "name": "stdout",
     "output_type": "stream",
     "text": [
      "RMSE on testing (5 fold), 0.75\n",
      "R2 on testing (5 fold), -0.42\n"
     ]
    }
   ],
   "source": [
    "#  THIS WILL TAKE A LONG TIME, around 4-5 mins !!!!!\n",
    "\n",
    "# Let's try KFold cross validation\n",
    "kf = KFold(n_splits=5)\n",
    "pred = cross_val_predict(lr, data, target, cv=kf)\n",
    "\n",
    "\n",
    "print('RMSE on testing (5 fold), {:.2}'.format(np.sqrt(mean_squared_error(target, pred))))\n",
    "print('R2 on testing (5 fold), {:.2}'.format(r2_score(target, pred)))"
   ]
  },
  {
   "cell_type": "markdown",
   "metadata": {},
   "source": [
    "We got perfect result because we use ALL the data for training.\n",
    "\n",
    "If we leave some data for testing or cross-validation, we see from above that we don't have a good result.\n",
    "\n",
    "Now, we try an **Elastic net**:"
   ]
  },
  {
   "cell_type": "code",
   "execution_count": 28,
   "metadata": {},
   "outputs": [
    {
     "name": "stdout",
     "output_type": "stream",
     "text": [
      "[EN 0.1] RMSE on training: 0.4\n",
      "[EN 0.1] R2 on training: 0.61\n"
     ]
    }
   ],
   "source": [
    "# Edit the lines below if you want to switch method:                                                     \n",
    "met = ElasticNet(alpha=0.1)\n",
    "met.fit(data, target)\n",
    "pred = met.predict(data)\n",
    "\n",
    "print('[EN 0.1] RMSE on training: {:.2}'.format(np.sqrt(mean_squared_error(target, pred))))\n",
    "print('[EN 0.1] R2 on training: {:.2}'.format(r2_score(target, pred)))"
   ]
  },
  {
   "cell_type": "markdown",
   "metadata": {},
   "source": [
    "Not a perfect prediction on the training data anymore, but let us check the value on cross-validation:"
   ]
  },
  {
   "cell_type": "code",
   "execution_count": 29,
   "metadata": {},
   "outputs": [
    {
     "name": "stdout",
     "output_type": "stream",
     "text": [
      "[EN 0.1] RMSE on testing (5 fold): 0.4\n",
      "[EN 0.1] R2 on testing (5 fold): 0.61\n"
     ]
    }
   ],
   "source": [
    "pred = cross_val_predict(met, data, target, cv=kf)\n",
    "\n",
    "print('[EN 0.1] RMSE on testing (5 fold): {:.2}'.format(np.sqrt(mean_squared_error(target, pred))))\n",
    "print('[EN 0.1] R2 on testing (5 fold): {:.2}'.format(r2_score(target, pred)))"
   ]
  },
  {
   "cell_type": "markdown",
   "metadata": {},
   "source": [
    "We now use **`ElasticNetCV`** to set parameters automatically:"
   ]
  },
  {
   "cell_type": "code",
   "execution_count": null,
   "metadata": {},
   "outputs": [
    {
     "name": "stdout",
     "output_type": "stream",
     "text": [
      "[EN CV] RMSE on training, 0.37\n",
      "[EN CV] R2 on training, 0.65\n"
     ]
    }
   ],
   "source": [
    "#  THIS WILL TAKE A LONG TIME !!!!!\n",
    "\n",
    "from sklearn.linear_model import ElasticNetCV\n",
    "# Construct an ElasticNetCV object (use all available CPUs)\n",
    "met = ElasticNetCV(n_jobs=-1)\n",
    "\n",
    "met.fit(data, target)\n",
    "pred = met.predict(data)\n",
    "print('[EN CV] RMSE on training, {:.2}'.format(np.sqrt(mean_squared_error(target, pred))))\n",
    "print('[EN CV] R2 on training, {:.2}'.format(r2_score(target, pred)))\n",
    "\n",
    "pred = cross_val_predict(met, data, target, cv=kf)\n",
    "print('[EN CV] RMSE on testing (5 fold), {:.2}'.format(np.sqrt(mean_squared_error(target, pred))))\n",
    "print('[EN CV] R2 on testing (5 fold), {:.2}'.format(r2_score(target, pred)))"
   ]
  },
  {
   "cell_type": "markdown",
   "metadata": {},
   "source": [
    "This is a a **pretty good general-purpose regression object**  !!!\n",
    "\n",
    "Now let us try to find the right L1 ratio for the ElasticNet."
   ]
  },
  {
   "cell_type": "code",
   "execution_count": 19,
   "metadata": {
    "scrolled": true
   },
   "outputs": [
    {
     "name": "stdout",
     "output_type": "stream",
     "text": [
      "[EN CV l1_ratio] RMSE on testing(5 fold), 0.37\n",
      "[EN CV l1_ratio] R2 on testing (5 fold), 0.65\n"
     ]
    }
   ],
   "source": [
    "#  THIS WILL TAKE A LONG LONG LONG  TIME, around 2.5 hours !!!!!\n",
    "\n",
    "# Construct an ElasticNetCV object (use all available CPUs)\n",
    "met = ElasticNetCV(n_jobs=-1, l1_ratio=[.01, .05, .25, .5, .75, .95, .99])\n",
    "\n",
    "pred = cross_val_predict(met, data, target, cv=kf)\n",
    "\n",
    "print('[EN CV l1_ratio] RMSE on testing(5 fold), {:.2}'.format(np.sqrt(mean_squared_error(target, pred))))\n",
    "print('[EN CV l1_ratio] R2 on testing (5 fold), {:.2}'.format(r2_score(target, pred)))"
   ]
  },
  {
   "cell_type": "markdown",
   "metadata": {},
   "source": [
    "Now the final result:"
   ]
  },
  {
   "cell_type": "code",
   "execution_count": 20,
   "metadata": {},
   "outputs": [
    {
     "data": {
      "image/png": "[encoded data removed]",
      "text/plain": [
       "<Figure size 432x288 with 1 Axes>"
      ]
     },
     "metadata": {
      "needs_background": "light"
     },
     "output_type": "display_data"
    }
   ],
   "source": [
    "# Let's plot this result\n",
    "\n",
    "fig, ax = plt.subplots()\n",
    "ax.scatter(target, pred, c='k', s=1)\n",
    "ax.plot([-5,-1], [-5,-1], 'r-', lw=2)\n",
    "ax.set_xlabel('Actual value')\n",
    "ax.set_ylabel('Predicted value')\n",
    "fig.savefig('Lesson03_Regression_Fig_05.png')"
   ]
  },
  {
   "cell_type": "markdown",
   "metadata": {},
   "source": [
    "## Conclusion\n",
    "\n",
    "What we have learnt:\n",
    "1. Single feature linear regression (or least square fit)\n",
    "2. Multi-dimensional linear regeression\n",
    "3. Regression using Ridge, Lasso and ElasticNet Model\n",
    "4. Tunning hyperparameter\n",
    "5. Illustrate the problem of not using cross-validation (or use **ALL DATA** for training).  \n",
    "6. Illustrate how to use ElasticNet for regresion and how to use the L1 ratio to tune $\\lambda_1$ and $\\lambda_2$.\n",
    "\n",
    "<br>\n",
    "<span style=\"font-family:times; font-size:0.9em;\">\n",
    "p.s.: The above codes are the \"modified\" and \"enhanced\" version of the codes from the book, \"Building Machine Learning Systems with Python\".</span>"
   ]
  },
  {
   "cell_type": "code",
   "execution_count": null,
   "metadata": {},
   "outputs": [],
   "source": []
  }
 ],
 "metadata": {
  "anaconda-cloud": {},
  "kernelspec": {
   "display_name": "Python 3",
   "language": "python",
   "name": "python3"
  },
  "language_info": {
   "codemirror_mode": {
    "name": "ipython",
    "version": 3
   },
   "file_extension": ".py",
   "mimetype": "text/x-python",
   "name": "python",
   "nbconvert_exporter": "python",
   "pygments_lexer": "ipython3",
   "version": "3.8.3"
  }
 },
 "nbformat": 4,
 "nbformat_minor": 2
}
