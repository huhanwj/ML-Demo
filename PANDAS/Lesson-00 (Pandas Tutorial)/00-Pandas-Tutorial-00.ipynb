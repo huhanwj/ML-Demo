{
 "cells": [
  {
   "cell_type": "markdown",
   "metadata": {},
   "source": [
    "## Tutorial to Pandas\n",
    "\n",
    "Created by **John C.S. Lui** for CSCI3320 (Fundamentals of Machine Learning).\n",
    "\n",
    "**Date:**  Jan 23, 2021.\n",
    "\n",
    "We will go over:\n",
    "\n",
    "1. Install Pandas\n",
    "2. Load a file (e.g., comma separated values (CSV) file\n",
    "3. Find out various display options \n",
    "4. Examine the data as well as schema of the data file\n",
    "5. Relationship with Python's dictionary"
   ]
  },
  {
   "cell_type": "markdown",
   "metadata": {},
   "source": [
    "## Pandas\n",
    "\n",
    "Pandas is an open **source data analysis** and **manipulation tool**, built on top of the Python programming language. It helps us to *open, modify* and *visualize* our data.  \n",
    "\n",
    "To install pandas, do <br>\n",
    "% `pip install pandas`\n",
    "\n",
    "To proceed with this tutorial, you need to first download some data files from <br>\n",
    "https://insights.stackoverflow.com/survey\n",
    "\n",
    "I use the 2019 dataset.  You shold download the file `developer_survey_2019.zip`, unzip it and put all the files under the sub-directory, `data`.\n"
   ]
  },
  {
   "cell_type": "code",
   "execution_count": null,
   "metadata": {},
   "outputs": [],
   "source": [
    "import pandas as pd   # import pandas and use pd as alias"
   ]
  },
  {
   "cell_type": "code",
   "execution_count": null,
   "metadata": {},
   "outputs": [],
   "source": [
    "# open the csv file, we can even take a look of that raw csv file\n",
    "# df is a variable, which is like a file handler and df stands for dataframe\n",
    "\n",
    "df = pd.read_csv('data/survey_results_public.csv')"
   ]
  },
  {
   "cell_type": "markdown",
   "metadata": {},
   "source": [
    "#### Comments: \n",
    "It said our data file has 88883 rows and 85 columns (attributes/features).  When we look at the display, we see\n",
    "that it nicely **cut** out some columns and rows."
   ]
  },
  {
   "cell_type": "code",
   "execution_count": null,
   "metadata": {},
   "outputs": [],
   "source": [
    "# let's look at the last 10 rows of that data file\n",
    "df.tail(10)\n",
    "#df.head(10)"
   ]
  },
  {
   "cell_type": "code",
   "execution_count": null,
   "metadata": {},
   "outputs": [],
   "source": [
    "# We can find out the `dimension` of our data file by using `shape`, which gives us the rows by column information\n",
    "df.shape"
   ]
  },
  {
   "cell_type": "code",
   "execution_count": null,
   "metadata": {},
   "outputs": [],
   "source": [
    "# Let's get the information of our dataframe, it shows each feature, its name, data type,...etc\n",
    "\n",
    "df.info()"
   ]
  },
  {
   "cell_type": "code",
   "execution_count": null,
   "metadata": {},
   "outputs": [],
   "source": [
    "# Let's changee the jupyter's setting so that we can see all 85 features \n",
    "pd.set_option('display.max_columns', 85)\n",
    "df"
   ]
  },
  {
   "cell_type": "code",
   "execution_count": null,
   "metadata": {},
   "outputs": [],
   "source": [
    "# We can examine the schema of the data file  by reading the corresponding given schema file\n",
    "schema_df = pd.read_csv('data/survey_results_schema.csv')\n",
    "schema_df"
   ]
  },
  {
   "cell_type": "code",
   "execution_count": null,
   "metadata": {},
   "outputs": [],
   "source": [
    "pd.set_option('display.max_rows', 6) \n",
    "df"
   ]
  },
  {
   "cell_type": "code",
   "execution_count": null,
   "metadata": {},
   "outputs": [],
   "source": [
    "schema_df"
   ]
  },
  {
   "cell_type": "code",
   "execution_count": null,
   "metadata": {},
   "outputs": [],
   "source": [
    "df.head()  # display the first 5 rows of the dataframe"
   ]
  },
  {
   "cell_type": "code",
   "execution_count": null,
   "metadata": {},
   "outputs": [],
   "source": [
    "df.head(10) # display the first 10 rows"
   ]
  },
  {
   "cell_type": "code",
   "execution_count": null,
   "metadata": {},
   "outputs": [],
   "source": [
    "# display the columns (or features) of the dataframe\n",
    "df.columns"
   ]
  },
  {
   "cell_type": "code",
   "execution_count": null,
   "metadata": {},
   "outputs": [],
   "source": [
    "# How should we look at the dataframe, in particular, for each feature (column)?\n",
    "# In Python's language, each column corresponds to a dictionary, with key being the featue, and values being\n",
    "# the data (or rows) of the corresponding feature.\n",
    "\n",
    "# Let's look at the feature 'Hobbyist'\n",
    "df['Hobbyist']"
   ]
  },
  {
   "cell_type": "code",
   "execution_count": null,
   "metadata": {},
   "outputs": [],
   "source": [
    "# We can also examine some rows with a particular feature(s)\n",
    "df.loc[0:5, 'Hobbyist']"
   ]
  },
  {
   "cell_type": "code",
   "execution_count": null,
   "metadata": {},
   "outputs": [],
   "source": [
    "df.loc[0:5, 'Hobbyist':'Employment']"
   ]
  },
  {
   "cell_type": "code",
   "execution_count": null,
   "metadata": {},
   "outputs": [],
   "source": [
    "# This can be illustrated by the following example of creating a dictionary and then use pandas to view it\n",
    "\n",
    "# define dictionary\n",
    "people = {\n",
    "        \"first\": ['John', 'Jack', 'Jill'],\n",
    "        \"last\":  ['Lui', 'Lee', 'Chan'], \n",
    "        \"email\": [\"cslui@cse.cuhk.edu.hk\", \"jacklee@cse.cuhk.edu.hk\", \"Jill_Lee@cse.cuhk.edu.hk\"] }\n",
    "\n",
    "people[\"email\"]"
   ]
  },
  {
   "cell_type": "code",
   "execution_count": null,
   "metadata": {},
   "outputs": [],
   "source": [
    "# now use Pandas to view all attributes\n",
    "import pandas as pd\n",
    "\n",
    "simple_df = pd.DataFrame(people)\n",
    "simple_df"
   ]
  },
  {
   "cell_type": "code",
   "execution_count": null,
   "metadata": {},
   "outputs": [],
   "source": [
    "simple_df['email']"
   ]
  },
  {
   "cell_type": "code",
   "execution_count": null,
   "metadata": {},
   "outputs": [],
   "source": [
    "simple_df.columns  # shows the features of the dataframe"
   ]
  },
  {
   "cell_type": "code",
   "execution_count": null,
   "metadata": {},
   "outputs": [],
   "source": [
    "# Show the data from a particular row\n",
    "simple_df.iloc[0]"
   ]
  },
  {
   "cell_type": "code",
   "execution_count": null,
   "metadata": {},
   "outputs": [],
   "source": [
    "simple_df.iloc[0:2]"
   ]
  },
  {
   "cell_type": "code",
   "execution_count": null,
   "metadata": {},
   "outputs": [],
   "source": [
    "# access particular rows\n",
    "simple_df.iloc[[0,2]]     # to access first and last row"
   ]
  },
  {
   "cell_type": "code",
   "execution_count": null,
   "metadata": {},
   "outputs": [],
   "source": [
    "# access particular rows\n",
    "simple_df.iloc[[2,0,1]]     # to access last and first and second row"
   ]
  },
  {
   "cell_type": "code",
   "execution_count": null,
   "metadata": {},
   "outputs": [],
   "source": [
    "simple_df.iloc[0,2]   # access a particular row (data) and column (feature)"
   ]
  },
  {
   "cell_type": "code",
   "execution_count": null,
   "metadata": {},
   "outputs": [],
   "source": [
    "# Or we can display certain rows with certain feature\n",
    "simple_df.iloc[[2,0],2]"
   ]
  },
  {
   "cell_type": "code",
   "execution_count": null,
   "metadata": {},
   "outputs": [],
   "source": [
    "# Or we can display certain rows with certain features\n",
    "simple_df.iloc[[2,0],[2,1]]"
   ]
  },
  {
   "cell_type": "code",
   "execution_count": null,
   "metadata": {},
   "outputs": [],
   "source": [
    "simple_df.loc[[2,0],'email']    # Note that we are using 'loc' now, now 'iloc'"
   ]
  },
  {
   "cell_type": "code",
   "execution_count": null,
   "metadata": {},
   "outputs": [],
   "source": [
    "simple_df.loc[[2,0],['email', 'first']]"
   ]
  },
  {
   "cell_type": "code",
   "execution_count": null,
   "metadata": {},
   "outputs": [],
   "source": [
    "df.columns"
   ]
  },
  {
   "cell_type": "code",
   "execution_count": null,
   "metadata": {},
   "outputs": [],
   "source": [
    "# show data 1, 2 and 4 with particular features only\n",
    "df.loc[[1,2,4], ['Hobbyist', \"OpenSource\", 'EdLevel']]"
   ]
  },
  {
   "cell_type": "code",
   "execution_count": null,
   "metadata": {},
   "outputs": [],
   "source": [
    "# We can also do some counting\n",
    "df['Hobbyist'].value_counts()"
   ]
  },
  {
   "cell_type": "code",
   "execution_count": null,
   "metadata": {},
   "outputs": [],
   "source": []
  }
 ],
 "metadata": {
  "kernelspec": {
   "display_name": "Python 3",
   "language": "python",
   "name": "python3"
  },
  "language_info": {
   "codemirror_mode": {
    "name": "ipython",
    "version": 3
   },
   "file_extension": ".py",
   "mimetype": "text/x-python",
   "name": "python",
   "nbconvert_exporter": "python",
   "pygments_lexer": "ipython3",
   "version": "3.8.3"
  }
 },
 "nbformat": 4,
 "nbformat_minor": 4
}
